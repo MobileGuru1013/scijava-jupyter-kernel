{
 "cells": [
  {
   "cell_type": "code",
   "execution_count": 1,
   "metadata": {},
   "outputs": [
    {
     "data": {
      "text/plain": [
       "No Outputs"
      ]
     },
     "execution_count": 1,
     "metadata": {},
     "output_type": "execute_result"
    }
   ],
   "source": [
    "#!groovy\n",
    "// @ImageJ ij\n",
    "// @NotebookService nb"
   ]
  },
  {
   "cell_type": "code",
   "execution_count": 2,
   "metadata": {},
   "outputs": [
    {
     "name": "stdout",
     "output_type": "stream",
     "text": [
      "geometricMean = 106.86402515788897\n",
      "harmonicMean = 60.81451530914875\n",
      "kurtosis = 2.250389182944452\n",
      "max = 252.9996057999923\n",
      "mean = 130.35596075261444\n",
      "median = 129.34019425677636\n",
      "min = 1.293813403205192\n",
      "moment1AboutMean = -2.877214910768089E-13\n",
      "moment2AboutMean = 3982.1563522625042\n",
      "moment3AboutMean = -10221.960619118927\n",
      "moment4AboutMean = 3.569046079615442E7\n",
      "size = 15000.0\n",
      "skewness = -0.04067366532821499\n",
      "stdDev = 63.106432691542885\n",
      "sum = 1955339.4112892165\n",
      "sumOfInverses = 246.65164103911627\n",
      "sumOfLogs = 70073.35850104403\n",
      "sumOfSquares = 3.146224928399938E8\n",
      "variance = 3982.4218470523483\n"
     ]
    },
    {
     "data": {
      "text/plain": [
       "No Outputs"
      ]
     },
     "execution_count": 2,
     "metadata": {},
     "output_type": "execute_result"
    }
   ],
   "source": [
    "sinusoid32 = ij.op().run(\"create.img\", [150, 100])\n",
    "formula = \"63 * (Math.cos(0.3*p[0]) + Math.sin(0.3*p[1])) + 127\"\n",
    "ij.op().image().equation(sinusoid32, formula)\n",
    "\n",
    "println(\"geometricMean = \" + ij.op().stats().geometricMean(sinusoid32))\n",
    "println(\"harmonicMean = \" + ij.op().stats().harmonicMean(sinusoid32))\n",
    "println(\"kurtosis = \" + ij.op().stats().kurtosis(sinusoid32))\n",
    "println(\"max = \" + ij.op().stats().max(sinusoid32))\n",
    "println(\"mean = \" + ij.op().stats().mean(sinusoid32))\n",
    "println(\"median = \" + ij.op().stats().median(sinusoid32))\n",
    "println(\"min = \" + ij.op().stats().min(sinusoid32))\n",
    "println(\"moment1AboutMean = \" + ij.op().stats().moment1AboutMean(sinusoid32))\n",
    "println(\"moment2AboutMean = \" + ij.op().stats().moment2AboutMean(sinusoid32))\n",
    "println(\"moment3AboutMean = \" + ij.op().stats().moment3AboutMean(sinusoid32))\n",
    "println(\"moment4AboutMean = \" + ij.op().stats().moment4AboutMean(sinusoid32))\n",
    "println(\"size = \" + ij.op().stats().size(sinusoid32))\n",
    "println(\"skewness = \" + ij.op().stats().skewness(sinusoid32))\n",
    "println(\"stdDev = \" + ij.op().stats().stdDev(sinusoid32))\n",
    "println(\"sum = \" + ij.op().stats().sum(sinusoid32))\n",
    "println(\"sumOfInverses = \" + ij.op().stats().sumOfInverses(sinusoid32))\n",
    "println(\"sumOfLogs = \" + ij.op().stats().sumOfLogs(sinusoid32))\n",
    "println(\"sumOfSquares = \" + ij.op().stats().sumOfSquares(sinusoid32))\n",
    "println(\"variance = \" + ij.op().stats().variance(sinusoid32))"
   ]
  },
  {
   "cell_type": "code",
   "execution_count": 3,
   "metadata": {},
   "outputs": [
    {
     "name": "stdout",
     "output_type": "stream",
     "text": [
      "image1 range = (0.0, 254.0)\n",
      "image2 range = (0.020272091031074524, 255.97271728515625)\n"
     ]
    },
    {
     "data": {
      "text/plain": [
       "No Outputs"
      ]
     },
     "execution_count": 3,
     "metadata": {},
     "output_type": "execute_result"
    }
   ],
   "source": [
    "// Prepare a couple of equally sized images.\n",
    "import net.imglib2.type.numeric.real.FloatType\n",
    "image1 = ij.op().run(\"create.img\", [160, 96], new FloatType())\n",
    "image2 = ij.op().run(\"copy.rai\", image1)\n",
    "\n",
    "// Gradient toward bottom right.\n",
    "ij.op().image().equation(image1, \"p[0] + p[1]\")\n",
    "minMax1 = ij.op().stats().minMax(image1)\n",
    "println(\"image1 range = (\" + minMax1.getA() + \", \" + minMax1.getB() + \")\")\n",
    "\n",
    "// Sinusoid.\n",
    "ij.op().image().equation(image2, \"64 * (Math.sin(0.1 * p[0]) + Math.cos(0.1 * p[1])) + 128\")\n",
    "minMax2 = ij.op().stats().minMax(image2)\n",
    "println(\"image2 range = (\" + minMax2.getA() + \", \" + minMax2.getB() + \")\")"
   ]
  },
  {
   "cell_type": "code",
   "execution_count": 4,
   "metadata": {},
   "outputs": [
    {
     "data": {
      "image/png": "[encoded data removed]"
     },
     "execution_count": 4,
     "metadata": {},
     "output_type": "execute_result"
    }
   ],
   "source": [
    "nb.display(image1)"
   ]
  },
  {
   "cell_type": "code",
   "execution_count": 5,
   "metadata": {},
   "outputs": [
    {
     "data": {
      "image/png": "[encoded data removed]"
     },
     "execution_count": 5,
     "metadata": {},
     "output_type": "execute_result"
    }
   ],
   "source": [
    "nb.display(image2)"
   ]
  },
  {
   "cell_type": "code",
   "execution_count": 6,
   "metadata": {},
   "outputs": [
    {
     "data": {
      "text/plain": [
       "Available operations:\n",
       "\t(Object out) =\n",
       "\tnet.imagej.ops.eval.DefaultEval(\n",
       "\t\tString in,\n",
       "\t\tMap vars?)"
      ]
     },
     "execution_count": 6,
     "metadata": {},
     "output_type": "execute_result"
    }
   ],
   "source": [
    "ij.op().help(\"eval\")"
   ]
  },
  {
   "cell_type": "code",
   "execution_count": null,
   "metadata": {},
   "outputs": [],
   "source": []
  }
 ],
 "metadata": {
  "kernelspec": {
   "display_name": "Scijava",
   "language": "groovy",
   "name": "scijava"
  },
  "language_info": {
   "codemirror_mode": "groovy",
   "file_extension": "",
   "mimetype": "",
   "name": "scijava",
   "nbconverter_exporter": "",
   "pygments_lexer": "groovy",
   "version": "1.0"
  }
 },
 "nbformat": 4,
 "nbformat_minor": 2
}
