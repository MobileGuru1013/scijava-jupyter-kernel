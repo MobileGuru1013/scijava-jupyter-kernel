{
 "cells": [
  {
   "cell_type": "markdown",
   "metadata": {},
   "source": [
    "Try to load the `JdbcTemplate` class. It should fail."
   ]
  },
  {
   "cell_type": "code",
   "execution_count": 1,
   "metadata": {},
   "outputs": [
    {
     "name": "stdout",
     "output_type": "stream",
     "text": [
      "java.lang.ClassNotFoundException: org.springframework.jdbc.core.JdbcTemplate\n"
     ]
    },
    {
     "data": {
      "text/plain": [
       "No Outputs"
      ]
     },
     "execution_count": 1,
     "metadata": {},
     "output_type": "execute_result"
    }
   ],
   "source": [
    "try {\n",
    "    Class.forName(\"org.springframework.jdbc.core.JdbcTemplate\");\n",
    "} catch (ClassNotFoundException ex) {\n",
    "    println ex\n",
    "}"
   ]
  },
  {
   "cell_type": "markdown",
   "metadata": {},
   "source": [
    "Now, grab the related artifact with the [grab mechanism](https://github.com/scijava/scijava-grab)."
   ]
  },
  {
   "cell_type": "code",
   "execution_count": 2,
   "metadata": {},
   "outputs": [
    {
     "name": "stderr",
     "output_type": "stream",
     "text": [
      "Resolving dependency: org.springframework#spring-orm;3.2.5.RELEASE {default=[default]}\n",
      "Preparing to download artifact org.springframework#spring-orm;3.2.5.RELEASE!spring-orm.jar\n",
      "Preparing to download artifact aopalliance#aopalliance;1.0!aopalliance.jar\n",
      "Preparing to download artifact org.springframework#spring-beans;3.2.5.RELEASE!spring-beans.jar\n",
      "Preparing to download artifact org.springframework#spring-core;3.2.5.RELEASE!spring-core.jar\n",
      "Preparing to download artifact org.springframework#spring-jdbc;3.2.5.RELEASE!spring-jdbc.jar\n",
      "Preparing to download artifact org.springframework#spring-tx;3.2.5.RELEASE!spring-tx.jar\n",
      "Preparing to download artifact commons-logging#commons-logging;1.1.1!commons-logging.jar\n",
      "Downloaded 2518 Kbytes in 3543ms:\n",
      "  [SUCCESSFUL ] org.springframework#spring-orm;3.2.5.RELEASE!spring-orm.jar (614ms)\n",
      "  [SUCCESSFUL ] aopalliance#aopalliance;1.0!aopalliance.jar (2ms)\n",
      "  [SUCCESSFUL ] org.springframework#spring-beans;3.2.5.RELEASE!spring-beans.jar (1474ms)\n",
      "  [SUCCESSFUL ] org.springframework#spring-core;3.2.5.RELEASE!spring-core.jar (494ms)\n",
      "  [SUCCESSFUL ] commons-logging#commons-logging;1.1.1!commons-logging.jar (4ms)\n",
      "  [SUCCESSFUL ] org.springframework#spring-jdbc;3.2.5.RELEASE!spring-jdbc.jar (469ms)\n",
      "  [SUCCESSFUL ] org.springframework#spring-tx;3.2.5.RELEASE!spring-tx.jar (462ms)\n"
     ]
    },
    {
     "data": {
      "text/plain": [
       "No Outputs"
      ]
     },
     "execution_count": 2,
     "metadata": {},
     "output_type": "execute_result"
    }
   ],
   "source": [
    "#@dependency(group=\"org.springframework\", module=\"spring-orm\", version=\"3.2.5.RELEASE\")"
   ]
  },
  {
   "cell_type": "markdown",
   "metadata": {},
   "source": [
    "You can now load the `JdbcTemplate` class."
   ]
  },
  {
   "cell_type": "code",
   "execution_count": 3,
   "metadata": {
    "collapsed": true
   },
   "outputs": [
    {
     "data": {
      "text/html": [
       "org&#8203;.springframework&#8203;.jdbc&#8203;.core&#8203;.JdbcTemplate&#8203;@451711ac"
      ]
     },
     "execution_count": 3,
     "metadata": {},
     "output_type": "execute_result"
    }
   ],
   "source": [
    "import org.springframework.jdbc.core.JdbcTemplate\n",
    "obj = new JdbcTemplate();\n",
    "obj"
   ]
  }
 ],
 "metadata": {
  "kernelspec": {
   "display_name": "Scijava",
   "language": "groovy",
   "name": "scijava"
  },
  "language_info": {
   "codemirror_mode": "groovy",
   "file_extension": "",
   "mimetype": "",
   "name": "scijava",
   "nbconverter_exporter": "",
   "pygments_lexer": "groovy",
   "version": "1.0"
  }
 },
 "nbformat": 4,
 "nbformat_minor": 2
}
