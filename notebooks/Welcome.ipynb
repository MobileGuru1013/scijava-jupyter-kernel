{
 "cells": [
  {
   "cell_type": "markdown",
   "metadata": {},
   "source": [
    "# Welcome to the Scijava Jupyter Kernel\n",
    "\n",
    "*If you haven't checked the introduction and installation instructions of the `scijava-jupyter-kernel` yet, please [click here](https://github.com/scijava/scijava-jupyter-kernel).*\n",
    "\n",
    "The goal of this series of notebooks is to introduce you to some of the features of the `scijava-jupyter-kernel`.\n",
    "\n",
    "Note that those notebooks are not an introduction course to the diverse languages supported by the `scijava-jupyter-kernel`. Neither it's an introduction to imaging analysis with ImageJ. Check the amazing [ImageJ website](https://imagej.net/) for this.\n",
    "\n",
    "---\n",
    "\n",
    "A list of notebooks highlighting the **Scijava Jupyter Kernel** specific features : \n",
    "\n",
    "- [Polyglot](./Polyglot.ipynb) : Introduction to the polyglot capabilities of the kernel.\n",
    "- [Rich Output](./Rich Output.ipynb) : Automatic output conversion. \n",
    "- [On-The-Fly Grabbing](./On-The-Fly Grabbing.ipynb) : How to dynamically download and load libraries ?\n",
    "- [Scijava](./Scijava.ipynb) : Scijava specific features.\n",
    "- [ImageJ](./ImageJ.ipynb) : ImageJ specific features.\n",
    "\n",
    "---\n",
    "\n",
    "*Help is always welcome to improve those notebooks. Don't hesitate [to submit your ideas](https://github.com/scijava/scijava-jupyter-kernel/pulls).*"
   ]
  }
 ],
 "metadata": {
  "kernelspec": {
   "display_name": "Scijava",
   "language": "groovy",
   "name": "scijava"
  },
  "language_info": {
   "codemirror_mode": "groovy",
   "file_extension": "",
   "mimetype": "",
   "name": "scijava",
   "nbconverter_exporter": "",
   "pygments_lexer": "groovy",
   "version": "1.0"
  }
 },
 "nbformat": 4,
 "nbformat_minor": 2
}
